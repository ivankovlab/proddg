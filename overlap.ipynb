{
 "cells": [
  {
   "cell_type": "code",
   "execution_count": 47,
   "id": "1896e451-9e17-40e9-8787-c27df9e9eecb",
   "metadata": {},
   "outputs": [],
   "source": [
    "import os, sys\n",
    "import pandas as pd\n",
    "import numpy as np\n",
    "\n",
    "path = 'https://raw.githubusercontent.com/ivankovlab/proddg/main/'\n",
    "blast_file = os.path.join(path, 'blast.tsv')\n",
    "blast = pd.read_table(blast_file)"
   ]
  },
  {
   "cell_type": "code",
   "execution_count": 48,
   "id": "dde135a3-3236-4ebf-888e-b44afcf9e6af",
   "metadata": {},
   "outputs": [],
   "source": [
    "# some overlap\n",
    "dataset1 = 'DDGun-Ptmul'\n",
    "dataset2 = 'PoPMuSiC-S2648'\n",
    "pident = 25"
   ]
  },
  {
   "cell_type": "code",
   "execution_count": 41,
   "id": "39a6414a-9a80-4a09-bf3a-715b1b133b8d",
   "metadata": {},
   "outputs": [],
   "source": [
    "# 100% overlap\n",
    "dataset1 = 'Myoglobin'\n",
    "dataset2 = 'PoPMuSiC-S2648'\n",
    "pident = 25"
   ]
  },
  {
   "cell_type": "code",
   "execution_count": 43,
   "id": "c0327c4b-6be3-4d5f-885e-51eeb7533d59",
   "metadata": {},
   "outputs": [],
   "source": [
    "# no overlap\n",
    "dataset1 = 'Myoglobin'\n",
    "dataset2 = 'Ssym'\n",
    "pident = 50"
   ]
  },
  {
   "cell_type": "code",
   "execution_count": 49,
   "id": "913464f6-c3ae-4789-97c7-349646f6bd64",
   "metadata": {},
   "outputs": [
    {
     "name": "stdout",
     "output_type": "stream",
     "text": [
      "Percent of overlapping data: 8.6%\n"
     ]
    }
   ],
   "source": [
    "dataset1_file = os.path.join(path, dataset1 + '.tsv')\n",
    "dataset1_data = pd.read_table(dataset1_file)\n",
    "dataset1_data['id'] = dataset1_data['pdb'] + '_' + dataset1_data['chain']\n",
    "\n",
    "data = blast[(blast['dataset2'] == dataset2) & (blast['dataset1'] == dataset1)]\n",
    "\n",
    "overlap = data.sort_values(\"pident\")[::-1]\n",
    "overlap = overlap[overlap['pident'] > int(pident)].loc[:, ['pdbid1', 'pdbid2', 'pident']]\n",
    "overlapping_proteins = overlap.pdbid1.unique()\n",
    "\n",
    "if len(overlapping_proteins) == 0:\n",
    "    print(f'No overlap at {pident}% cutoff.')\n",
    "else:\n",
    "    overlap.to_csv('overlapping_proteins.tsv', sep='\\t', index=False, header=False)\n",
    "    overlapping_proteins = overlap.pdbid1.unique()\n",
    "    \n",
    "    dataset1_data_no_overlap = dataset1_data[~dataset1_data['id'].isin(overlapping_proteins)]\n",
    "    if len(dataset1_data_no_overlap) == 0:\n",
    "        print(f'All data overlap at {pident}% cutoff.')\n",
    "    else:\n",
    "        file_name = '__'.join([dataset1, dataset2, str(pident)])\n",
    "        #dataset1_data_no_overlap.drop(columns='id').to_csv(os.path.join(path, file_name+'.tsv'), sep='\\t', index=False)\n",
    "        dataset1_data_no_overlap.drop(columns='id').to_csv(file_name+'.tsv', sep='\\t', index=False)\n",
    "\n",
    "        n_before = len(dataset1_data)\n",
    "        n_after = len(dataset1_data_no_overlap)\n",
    "        print(f'Percent of overlapping data: {n_after/n_before:.1%}')"
   ]
  },
  {
   "cell_type": "code",
   "execution_count": null,
   "id": "ad08843f-cdbe-4249-983c-bbf153da2570",
   "metadata": {},
   "outputs": [],
   "source": []
  }
 ],
 "metadata": {
  "kernelspec": {
   "display_name": "Python 3 (ipykernel)",
   "language": "python",
   "name": "python3"
  },
  "language_info": {
   "codemirror_mode": {
    "name": "ipython",
    "version": 3
   },
   "file_extension": ".py",
   "mimetype": "text/x-python",
   "name": "python",
   "nbconvert_exporter": "python",
   "pygments_lexer": "ipython3",
   "version": "3.9.12"
  }
 },
 "nbformat": 4,
 "nbformat_minor": 5
}
